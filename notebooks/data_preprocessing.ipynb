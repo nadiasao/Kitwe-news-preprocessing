{
 "cells": [
  {
   "cell_type": "raw",
   "id": "3ca67434-5d5e-4265-a783-437db997ee95",
   "metadata": {},
   "source": [
    "1. Data cleaning\n",
    "    1.1 Remove Duplicates\n",
    "    1.2 Handle missing values\n",
    "    1.3 Convert the date to Datetime Format\n",
    "2. Data preprocessing\n",
    "   - remove URLs\n",
    "   - remove HTML tags\n",
    "   - remove punktuation\n",
    "   - lowecase text\n",
    "   - tokenize text\n",
    "   - remove stop words and lemmatize tokens"
   ]
  },
  {
   "cell_type": "code",
   "execution_count": 3,
   "id": "be32b791-4fb4-494d-8573-3da7456ed5c8",
   "metadata": {},
   "outputs": [
    {
     "name": "stderr",
     "output_type": "stream",
     "text": [
      "[nltk_data] Downloading package punkt to C:\\Users\\Familie\n",
      "[nltk_data]     fatah\\AppData\\Roaming\\nltk_data...\n",
      "[nltk_data]   Package punkt is already up-to-date!\n",
      "[nltk_data] Downloading package stopwords to C:\\Users\\Familie\n",
      "[nltk_data]     fatah\\AppData\\Roaming\\nltk_data...\n",
      "[nltk_data]   Package stopwords is already up-to-date!\n",
      "[nltk_data] Downloading package wordnet to C:\\Users\\Familie\n",
      "[nltk_data]     fatah\\AppData\\Roaming\\nltk_data...\n",
      "[nltk_data]   Package wordnet is already up-to-date!\n"
     ]
    },
    {
     "data": {
      "text/plain": [
       "True"
      ]
     },
     "execution_count": 3,
     "metadata": {},
     "output_type": "execute_result"
    }
   ],
   "source": [
    "import pandas as pd\n",
    "import re\n",
    "from nltk.tokenize import word_tokenize\n",
    "from nltk.corpus import stopwords\n",
    "from nltk.stem import WordNetLemmatizer\n",
    "import nltk\n",
    "\n",
    "# Initialize stopwords and lemmatizer\n",
    "stop_words = set(stopwords.words('english'))\n",
    "lemmatizer = WordNetLemmatizer()\n",
    "\n",
    "# import necessary nltk data\n",
    "nltk.download('punkt')\n",
    "nltk.download('stopwords')\n",
    "nltk.download('wordnet')"
   ]
  },
  {
   "cell_type": "code",
   "execution_count": 4,
   "id": "c5b65abf-9c92-4b70-ae09-e5ecf8dfd148",
   "metadata": {},
   "outputs": [
    {
     "data": {
      "text/html": [
       "<div>\n",
       "<style scoped>\n",
       "    .dataframe tbody tr th:only-of-type {\n",
       "        vertical-align: middle;\n",
       "    }\n",
       "\n",
       "    .dataframe tbody tr th {\n",
       "        vertical-align: top;\n",
       "    }\n",
       "\n",
       "    .dataframe thead th {\n",
       "        text-align: right;\n",
       "    }\n",
       "</style>\n",
       "<table border=\"1\" class=\"dataframe\">\n",
       "  <thead>\n",
       "    <tr style=\"text-align: right;\">\n",
       "      <th></th>\n",
       "      <th>Source</th>\n",
       "      <th>Category</th>\n",
       "      <th>Headline</th>\n",
       "      <th>Link</th>\n",
       "      <th>Description</th>\n",
       "      <th>Date</th>\n",
       "      <th>Author</th>\n",
       "    </tr>\n",
       "  </thead>\n",
       "  <tbody>\n",
       "    <tr>\n",
       "      <th>0</th>\n",
       "      <td>Daily Mail Zambia</td>\n",
       "      <td>Headlines, News</td>\n",
       "      <td>K8 million CBU hall building starts</td>\n",
       "      <td>https://www.daily-mail.co.zm/2024/10/15/k8-mil...</td>\n",
       "      <td>MWILA NTAMBI Kitwe COPPERBELT University (CBU)...</td>\n",
       "      <td>Tue, 15 Oct 2024 06:41:52 +0000</td>\n",
       "      <td>Website Editor</td>\n",
       "    </tr>\n",
       "    <tr>\n",
       "      <th>1</th>\n",
       "      <td>Daily Mail Zambia</td>\n",
       "      <td>Headlines, News</td>\n",
       "      <td>Exercise aimed at recruiting 300,000 members i...</td>\n",
       "      <td>https://www.daily-mail.co.zm/2024/10/15/exerci...</td>\n",
       "      <td>MELODY MUPETA Kitwe THE United Party for Natio...</td>\n",
       "      <td>Tue, 15 Oct 2024 06:17:07 +0000</td>\n",
       "      <td>Website Editor</td>\n",
       "    </tr>\n",
       "    <tr>\n",
       "      <th>2</th>\n",
       "      <td>Daily Mail Zambia</td>\n",
       "      <td>Headlines, News</td>\n",
       "      <td>K8 million CBU hall building starts</td>\n",
       "      <td>https://www.daily-mail.co.zm/2024/10/15/k8-mil...</td>\n",
       "      <td>MWILA NTAMBI Kitwe COPPERBELT University (CBU)...</td>\n",
       "      <td>Tue, 15 Oct 2024 06:41:52 +0000</td>\n",
       "      <td>Website Editor</td>\n",
       "    </tr>\n",
       "    <tr>\n",
       "      <th>3</th>\n",
       "      <td>Daily Mail Zambia</td>\n",
       "      <td>Headlines, News</td>\n",
       "      <td>Exercise aimed at recruiting 300,000 members i...</td>\n",
       "      <td>https://www.daily-mail.co.zm/2024/10/15/exerci...</td>\n",
       "      <td>MELODY MUPETA Kitwe THE United Party for Natio...</td>\n",
       "      <td>Tue, 15 Oct 2024 06:17:07 +0000</td>\n",
       "      <td>Website Editor</td>\n",
       "    </tr>\n",
       "    <tr>\n",
       "      <th>4</th>\n",
       "      <td>Daily Mail Zambia</td>\n",
       "      <td>Headlines, News</td>\n",
       "      <td>K8 million CBU hall building starts</td>\n",
       "      <td>https://www.daily-mail.co.zm/2024/10/15/k8-mil...</td>\n",
       "      <td>MWILA NTAMBI Kitwe COPPERBELT University (CBU)...</td>\n",
       "      <td>Tue, 15 Oct 2024 06:41:52 +0000</td>\n",
       "      <td>Website Editor</td>\n",
       "    </tr>\n",
       "  </tbody>\n",
       "</table>\n",
       "</div>"
      ],
      "text/plain": [
       "              Source         Category  \\\n",
       "0  Daily Mail Zambia  Headlines, News   \n",
       "1  Daily Mail Zambia  Headlines, News   \n",
       "2  Daily Mail Zambia  Headlines, News   \n",
       "3  Daily Mail Zambia  Headlines, News   \n",
       "4  Daily Mail Zambia  Headlines, News   \n",
       "\n",
       "                                            Headline  \\\n",
       "0                K8 million CBU hall building starts   \n",
       "1  Exercise aimed at recruiting 300,000 members i...   \n",
       "2                K8 million CBU hall building starts   \n",
       "3  Exercise aimed at recruiting 300,000 members i...   \n",
       "4                K8 million CBU hall building starts   \n",
       "\n",
       "                                                Link  \\\n",
       "0  https://www.daily-mail.co.zm/2024/10/15/k8-mil...   \n",
       "1  https://www.daily-mail.co.zm/2024/10/15/exerci...   \n",
       "2  https://www.daily-mail.co.zm/2024/10/15/k8-mil...   \n",
       "3  https://www.daily-mail.co.zm/2024/10/15/exerci...   \n",
       "4  https://www.daily-mail.co.zm/2024/10/15/k8-mil...   \n",
       "\n",
       "                                         Description  \\\n",
       "0  MWILA NTAMBI Kitwe COPPERBELT University (CBU)...   \n",
       "1  MELODY MUPETA Kitwe THE United Party for Natio...   \n",
       "2  MWILA NTAMBI Kitwe COPPERBELT University (CBU)...   \n",
       "3  MELODY MUPETA Kitwe THE United Party for Natio...   \n",
       "4  MWILA NTAMBI Kitwe COPPERBELT University (CBU)...   \n",
       "\n",
       "                              Date          Author  \n",
       "0  Tue, 15 Oct 2024 06:41:52 +0000  Website Editor  \n",
       "1  Tue, 15 Oct 2024 06:17:07 +0000  Website Editor  \n",
       "2  Tue, 15 Oct 2024 06:41:52 +0000  Website Editor  \n",
       "3  Tue, 15 Oct 2024 06:17:07 +0000  Website Editor  \n",
       "4  Tue, 15 Oct 2024 06:41:52 +0000  Website Editor  "
      ]
     },
     "execution_count": 4,
     "metadata": {},
     "output_type": "execute_result"
    }
   ],
   "source": [
    "# Load the dataset from a local file\n",
    "df = pd.read_csv(\"../data/News_Aggregator_Kitwe Data Collection.csv\")\n",
    "df.head()"
   ]
  },
  {
   "cell_type": "markdown",
   "id": "67174053-6b73-4760-a7d4-09a36ddf27d8",
   "metadata": {},
   "source": [
    "# 1.data cleaning"
   ]
  },
  {
   "cell_type": "code",
   "execution_count": 5,
   "id": "9936132b-334a-4c7b-b708-1a77ef0b4728",
   "metadata": {},
   "outputs": [
    {
     "name": "stdout",
     "output_type": "stream",
     "text": [
      "<class 'pandas.core.frame.DataFrame'>\n",
      "RangeIndex: 14344 entries, 0 to 14343\n",
      "Data columns (total 7 columns):\n",
      " #   Column       Non-Null Count  Dtype \n",
      "---  ------       --------------  ----- \n",
      " 0   Source       14344 non-null  object\n",
      " 1   Category     13870 non-null  object\n",
      " 2   Headline     14343 non-null  object\n",
      " 3   Link         14344 non-null  object\n",
      " 4   Description  14330 non-null  object\n",
      " 5   Date         14344 non-null  object\n",
      " 6   Author       14343 non-null  object\n",
      "dtypes: object(7)\n",
      "memory usage: 784.6+ KB\n"
     ]
    }
   ],
   "source": [
    "# display data types and non-null counts\n",
    "df.info()"
   ]
  },
  {
   "cell_type": "markdown",
   "id": "a5305ba6-6f03-441e-b399-f9eb7abc5b90",
   "metadata": {},
   "source": [
    "## 1.1 Remove Duplicates"
   ]
  },
  {
   "cell_type": "code",
   "execution_count": 6,
   "id": "37a4f647-1662-46f1-a20a-afd89b7d0266",
   "metadata": {},
   "outputs": [
    {
     "name": "stdout",
     "output_type": "stream",
     "text": [
      "original data had 14344 rows.\n",
      "cleaned data has 12346 rows.\n"
     ]
    }
   ],
   "source": [
    "#remove duplicate based on all columns\n",
    "df_cleaned= df.drop_duplicates()\n",
    "print(f\"original data had {df.shape[0]} rows.\")\n",
    "print(f\"cleaned data has {df_cleaned.shape[0]} rows.\")"
   ]
  },
  {
   "cell_type": "code",
   "execution_count": 7,
   "id": "dbbabc7d-eeb5-4212-98a0-8bf4472e71c3",
   "metadata": {},
   "outputs": [
    {
     "name": "stdout",
     "output_type": "stream",
     "text": [
      "<class 'pandas.core.frame.DataFrame'>\n",
      "Index: 12346 entries, 0 to 14343\n",
      "Data columns (total 7 columns):\n",
      " #   Column       Non-Null Count  Dtype \n",
      "---  ------       --------------  ----- \n",
      " 0   Source       12346 non-null  object\n",
      " 1   Category     11872 non-null  object\n",
      " 2   Headline     12345 non-null  object\n",
      " 3   Link         12346 non-null  object\n",
      " 4   Description  12332 non-null  object\n",
      " 5   Date         12346 non-null  object\n",
      " 6   Author       12345 non-null  object\n",
      "dtypes: object(7)\n",
      "memory usage: 771.6+ KB\n"
     ]
    }
   ],
   "source": [
    "df_cleaned.info()"
   ]
  },
  {
   "cell_type": "markdown",
   "id": "00e83cf0-3629-4947-9689-edc6dee6f318",
   "metadata": {},
   "source": [
    "## 1.2 Handle missing values"
   ]
  },
  {
   "cell_type": "code",
   "execution_count": 8,
   "id": "adb47693-9579-4a99-93ae-e32d6c8d7c3a",
   "metadata": {},
   "outputs": [
    {
     "name": "stdout",
     "output_type": "stream",
     "text": [
      "Source           0\n",
      "Category       474\n",
      "Headline         1\n",
      "Link             0\n",
      "Description     14\n",
      "Date             0\n",
      "Author           1\n",
      "dtype: int64\n"
     ]
    }
   ],
   "source": [
    "#check for missing values\n",
    "print(df_cleaned.isnull().sum())"
   ]
  },
  {
   "cell_type": "code",
   "execution_count": 9,
   "id": "639b0f3e-aa6d-4c25-ae82-61468579ed8d",
   "metadata": {},
   "outputs": [
    {
     "name": "stdout",
     "output_type": "stream",
     "text": [
      "cleaned data has 11858 rows.\n"
     ]
    }
   ],
   "source": [
    "#drop the rows with missing values\n",
    "df_cleaned=df_cleaned.dropna()\n",
    "print(f\"cleaned data has {df_cleaned.shape[0]} rows.\")"
   ]
  },
  {
   "cell_type": "code",
   "execution_count": 10,
   "id": "04c72eb2-f438-436a-ad97-07a61af2d411",
   "metadata": {},
   "outputs": [
    {
     "data": {
      "text/plain": [
       "Source         0\n",
       "Category       0\n",
       "Headline       0\n",
       "Link           0\n",
       "Description    0\n",
       "Date           0\n",
       "Author         0\n",
       "dtype: int64"
      ]
     },
     "execution_count": 10,
     "metadata": {},
     "output_type": "execute_result"
    }
   ],
   "source": [
    "df_cleaned.isnull().sum()"
   ]
  },
  {
   "cell_type": "markdown",
   "id": "8553cf73-2ab8-4fa7-b6c0-98f37cc28bdd",
   "metadata": {},
   "source": [
    "## 1.3 Convert the date to Datetime Format"
   ]
  },
  {
   "cell_type": "code",
   "execution_count": 11,
   "id": "0e844c75-cf60-404b-baec-614021485b06",
   "metadata": {},
   "outputs": [
    {
     "data": {
      "text/plain": [
       "Source         object\n",
       "Category       object\n",
       "Headline       object\n",
       "Link           object\n",
       "Description    object\n",
       "Date           object\n",
       "Author         object\n",
       "dtype: object"
      ]
     },
     "execution_count": 11,
     "metadata": {},
     "output_type": "execute_result"
    }
   ],
   "source": [
    "#Check the dateformat\n",
    "df_cleaned.dtypes"
   ]
  },
  {
   "cell_type": "code",
   "execution_count": 12,
   "id": "81bcf475-9b50-4023-bb4b-83e12951c744",
   "metadata": {},
   "outputs": [],
   "source": [
    "#Convert 'Date' to datetime format\n",
    "df_cleaned['Date']=pd.to_datetime(df_cleaned['Date'])"
   ]
  },
  {
   "cell_type": "code",
   "execution_count": 13,
   "id": "0b3d40b6-bd3b-4597-8ccd-2d06a6c052fe",
   "metadata": {},
   "outputs": [
    {
     "data": {
      "text/plain": [
       "Source                      object\n",
       "Category                    object\n",
       "Headline                    object\n",
       "Link                        object\n",
       "Description                 object\n",
       "Date           datetime64[ns, UTC]\n",
       "Author                      object\n",
       "dtype: object"
      ]
     },
     "execution_count": 13,
     "metadata": {},
     "output_type": "execute_result"
    }
   ],
   "source": [
    "df_cleaned.dtypes"
   ]
  },
  {
   "cell_type": "markdown",
   "id": "8311c960-faee-43f8-bd49-3caf2f310d86",
   "metadata": {},
   "source": [
    "# 2. Data preprocessing"
   ]
  },
  {
   "cell_type": "code",
   "execution_count": 15,
   "id": "56c26088-41d4-4100-be7a-4b1db7cea836",
   "metadata": {},
   "outputs": [
    {
     "name": "stderr",
     "output_type": "stream",
     "text": [
      "[nltk_data] Downloading package punkt_tab to C:\\Users\\Familie\n",
      "[nltk_data]     fatah\\AppData\\Roaming\\nltk_data...\n",
      "[nltk_data]   Package punkt_tab is already up-to-date!\n"
     ]
    },
    {
     "data": {
      "text/plain": [
       "True"
      ]
     },
     "execution_count": 15,
     "metadata": {},
     "output_type": "execute_result"
    }
   ],
   "source": [
    " import nltk\n",
    " nltk.download('punkt_tab')"
   ]
  },
  {
   "cell_type": "code",
   "execution_count": 30,
   "id": "ba9acbaa-2a33-4f81-91fa-df4b7978dc3f",
   "metadata": {},
   "outputs": [],
   "source": [
    "def preprocess_text(text):\n",
    "    #remove URLs\n",
    "    text = re.sub(r'http\\S+', '', text)\n",
    "    #remove HTML tags\n",
    "    text = re.sub(r'<.*?>', '', text)\n",
    "    #remove punktuation\n",
    "    text = re.sub(r'[^\\w\\s]', '', text)\n",
    "    #lowecase text\n",
    "    text = text.lower()\n",
    "    #tokenize text\n",
    "    tokens = word_tokenize(text)\n",
    "    #remove stop words and lemmatize tokens\n",
    "    cleaned_tokens=[lemmatizer.lemmatize(word) for word in tokens if word not in stop_words]\n",
    "    return cleaned_tokens"
   ]
  },
  {
   "cell_type": "code",
   "execution_count": 31,
   "id": "ac685a08-9ccb-4482-9b8b-e48b271bfacf",
   "metadata": {},
   "outputs": [],
   "source": [
    "df_cleaned['Description_cl']=df_cleaned['Description'].apply(preprocess_text)"
   ]
  },
  {
   "cell_type": "code",
   "execution_count": 32,
   "id": "15f2aec4-a12d-4c73-9d8d-9d01c83d38a5",
   "metadata": {},
   "outputs": [
    {
     "name": "stdout",
     "output_type": "stream",
     "text": [
      "original text\n",
      "<p>By Michael Kaluba Government has directed Zambia Police Traffic Officers to ensure that no trucks are allowed to park at undesignated spots on the road while truck parks remain empty, including those currently parked along the road towards Kasumbalesa Border. According to Phoenix, transport and Logistics Minister Frank Tayali said even trucks that are currently [&#8230;]</p>\n",
      "<p>The post <a href=\"https://zambiareports.news/2022/06/08/traffic-police-ordered-to-rid-roads-of-insanity/\">TRAFFIC POLICE ORDERED TO RID ROADS OF INSANITY</a> appeared first on <a href=\"https://zambiareports.news\">Zambia Reports</a>.</p>\n",
      "preprocessed text:\n",
      "['michael', 'kaluba', 'government', 'directed', 'zambia', 'police', 'traffic', 'officer', 'ensure', 'truck', 'allowed', 'park', 'undesignated', 'spot', 'road', 'truck', 'park', 'remain', 'empty', 'including', 'currently', 'parked', 'along', 'road', 'towards', 'kasumbalesa', 'border', 'according', 'phoenix', 'transport', 'logistics', 'minister', 'frank', 'tayali', 'said', 'even', 'truck', 'currently', '8230', 'post', 'appeared', 'first']\n"
     ]
    }
   ],
   "source": [
    "print(f\"original text\\n{df_cleaned['Description'].loc[14341]}\")\n",
    "print(f\"preprocessed text:\\n{df_cleaned['Description_cl'].loc[14341]}\")"
   ]
  },
  {
   "cell_type": "code",
   "execution_count": 35,
   "id": "a204b999-8812-4d6a-96d6-e51cc15c1b3b",
   "metadata": {},
   "outputs": [],
   "source": [
    "#saving as csv file\n",
    "df_cleaned.to_csv('../data/cleaned_data.csv', index=False)"
   ]
  },
  {
   "cell_type": "code",
   "execution_count": null,
   "id": "41002be7-6294-4584-8405-5e1864c77134",
   "metadata": {},
   "outputs": [],
   "source": []
  }
 ],
 "metadata": {
  "kernelspec": {
   "display_name": "Python 3 (ipykernel)",
   "language": "python",
   "name": "python3"
  },
  "language_info": {
   "codemirror_mode": {
    "name": "ipython",
    "version": 3
   },
   "file_extension": ".py",
   "mimetype": "text/x-python",
   "name": "python",
   "nbconvert_exporter": "python",
   "pygments_lexer": "ipython3",
   "version": "3.13.0"
  }
 },
 "nbformat": 4,
 "nbformat_minor": 5
}
