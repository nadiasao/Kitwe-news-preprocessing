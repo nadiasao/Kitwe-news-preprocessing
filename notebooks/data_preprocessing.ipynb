{
 "cells": [
  {
   "cell_type": "raw",
   "id": "3ca67434-5d5e-4265-a783-437db997ee95",
   "metadata": {},
   "source": [
    "1. Data cleaning\n",
    "    1.1 Remove Duplicates\n",
    "    1.2 Handle missing values\n",
    "    1.3 Convert the date to Datetime Format\n",
    "2. Data preprocessing\n",
    "   - remove URLs\n",
    "   - remove HTML tags\n",
    "   - remove punktuation\n",
    "   - lowecase text\n",
    "   - tokenize text\n",
    "   - remove stop words and lemmatize tokens"
   ]
  },
  {
   "cell_type": "code",
   "execution_count": 79,
   "id": "be32b791-4fb4-494d-8573-3da7456ed5c8",
   "metadata": {},
   "outputs": [
    {
     "name": "stderr",
     "output_type": "stream",
     "text": [
      "[nltk_data] Downloading package punkt to C:\\Users\\Familie\n",
      "[nltk_data]     fatah\\AppData\\Roaming\\nltk_data...\n",
      "[nltk_data]   Package punkt is already up-to-date!\n",
      "[nltk_data] Downloading package stopwords to C:\\Users\\Familie\n",
      "[nltk_data]     fatah\\AppData\\Roaming\\nltk_data...\n",
      "[nltk_data]   Package stopwords is already up-to-date!\n",
      "[nltk_data] Downloading package wordnet to C:\\Users\\Familie\n",
      "[nltk_data]     fatah\\AppData\\Roaming\\nltk_data...\n",
      "[nltk_data]   Package wordnet is already up-to-date!\n"
     ]
    },
    {
     "data": {
      "text/plain": [
       "True"
      ]
     },
     "execution_count": 79,
     "metadata": {},
     "output_type": "execute_result"
    }
   ],
   "source": [
    "import pandas as pd\n",
    "import re\n",
    "from nltk.tokenize import word_tokenize\n",
    "from nltk.corpus import stopwords\n",
    "from nltk.stem import WordNetLemmatizer\n",
    "import nltk\n",
    "\n",
    "# Initialize stopwords and lemmatizer\n",
    "stop_words = set(stopwords.words('english'))\n",
    "lemmatizer = WordNetLemmatizer()\n",
    "\n",
    "# import necessary nltk data\n",
    "nltk.download('punkt')\n",
    "nltk.download('stopwords')\n",
    "nltk.download('wordnet')"
   ]
  },
  {
   "cell_type": "code",
   "execution_count": 80,
   "id": "c5b65abf-9c92-4b70-ae09-e5ecf8dfd148",
   "metadata": {},
   "outputs": [
    {
     "data": {
      "text/html": [
       "<div>\n",
       "<style scoped>\n",
       "    .dataframe tbody tr th:only-of-type {\n",
       "        vertical-align: middle;\n",
       "    }\n",
       "\n",
       "    .dataframe tbody tr th {\n",
       "        vertical-align: top;\n",
       "    }\n",
       "\n",
       "    .dataframe thead th {\n",
       "        text-align: right;\n",
       "    }\n",
       "</style>\n",
       "<table border=\"1\" class=\"dataframe\">\n",
       "  <thead>\n",
       "    <tr style=\"text-align: right;\">\n",
       "      <th></th>\n",
       "      <th>Source</th>\n",
       "      <th>Headlines</th>\n",
       "      <th>Category</th>\n",
       "      <th>Link</th>\n",
       "      <th>Date</th>\n",
       "      <th>Author</th>\n",
       "      <th>Target_final</th>\n",
       "      <th>description</th>\n",
       "    </tr>\n",
       "  </thead>\n",
       "  <tbody>\n",
       "    <tr>\n",
       "      <th>0</th>\n",
       "      <td>daily mail zambia</td>\n",
       "      <td>million cbu hall building start</td>\n",
       "      <td>education</td>\n",
       "      <td>https://www.daily-mail.co.zm/2024/10/15/k8-mil...</td>\n",
       "      <td>2024-10-15 06:41:52+00:00</td>\n",
       "      <td>Website Editor</td>\n",
       "      <td>0</td>\n",
       "      <td>mwila ntambi kitwe copperbelt university cbu k...</td>\n",
       "    </tr>\n",
       "    <tr>\n",
       "      <th>1</th>\n",
       "      <td>daily mail zambia</td>\n",
       "      <td>exercise aim recruit member province</td>\n",
       "      <td>politics</td>\n",
       "      <td>https://www.daily-mail.co.zm/2024/10/15/exerci...</td>\n",
       "      <td>2024-10-15 06:17:07+00:00</td>\n",
       "      <td>Website Editor</td>\n",
       "      <td>0</td>\n",
       "      <td>melody mupeta kitwe united party national deve...</td>\n",
       "    </tr>\n",
       "    <tr>\n",
       "      <th>2</th>\n",
       "      <td>flava fm</td>\n",
       "      <td>charcoal trader chimwemwe township appeal gove...</td>\n",
       "      <td>local news</td>\n",
       "      <td>https://flavaradioandtv.com/charcoal-traders-i...</td>\n",
       "      <td>2024-05-13 08:00:53+00:00</td>\n",
       "      <td>Newsroom</td>\n",
       "      <td>1</td>\n",
       "      <td>group charcoal trader cmml area kitwe chimwemw...</td>\n",
       "    </tr>\n",
       "    <tr>\n",
       "      <th>3</th>\n",
       "      <td>flava fm</td>\n",
       "      <td>ecologist warn urbanisation dire impact biodiv...</td>\n",
       "      <td>development</td>\n",
       "      <td>https://flavaradioandtv.com/ecologist-warns-of...</td>\n",
       "      <td>2024-03-26 08:33:05+00:00</td>\n",
       "      <td>Newsroom</td>\n",
       "      <td>1</td>\n",
       "      <td>pecologist mutende simwanza raise alarm detrim...</td>\n",
       "    </tr>\n",
       "    <tr>\n",
       "      <th>4</th>\n",
       "      <td>flava fm</td>\n",
       "      <td>copperbelt minister urge mopani settle debt ki...</td>\n",
       "      <td>politics</td>\n",
       "      <td>https://flavaradioandtv.com/copperbelt-ministe...</td>\n",
       "      <td>2024-03-14 10:18:04+00:00</td>\n",
       "      <td>Newsroom</td>\n",
       "      <td>1</td>\n",
       "      <td>pcopperbelt minister elisha matambo issue mopa...</td>\n",
       "    </tr>\n",
       "  </tbody>\n",
       "</table>\n",
       "</div>"
      ],
      "text/plain": [
       "              Source                                          Headlines  \\\n",
       "0  daily mail zambia                    million cbu hall building start   \n",
       "1  daily mail zambia               exercise aim recruit member province   \n",
       "2           flava fm  charcoal trader chimwemwe township appeal gove...   \n",
       "3           flava fm  ecologist warn urbanisation dire impact biodiv...   \n",
       "4           flava fm  copperbelt minister urge mopani settle debt ki...   \n",
       "\n",
       "      Category                                               Link  \\\n",
       "0    education  https://www.daily-mail.co.zm/2024/10/15/k8-mil...   \n",
       "1     politics  https://www.daily-mail.co.zm/2024/10/15/exerci...   \n",
       "2   local news  https://flavaradioandtv.com/charcoal-traders-i...   \n",
       "3  development  https://flavaradioandtv.com/ecologist-warns-of...   \n",
       "4     politics  https://flavaradioandtv.com/copperbelt-ministe...   \n",
       "\n",
       "                        Date          Author  Target_final  \\\n",
       "0  2024-10-15 06:41:52+00:00  Website Editor             0   \n",
       "1  2024-10-15 06:17:07+00:00  Website Editor             0   \n",
       "2  2024-05-13 08:00:53+00:00        Newsroom             1   \n",
       "3  2024-03-26 08:33:05+00:00        Newsroom             1   \n",
       "4  2024-03-14 10:18:04+00:00        Newsroom             1   \n",
       "\n",
       "                                         description  \n",
       "0  mwila ntambi kitwe copperbelt university cbu k...  \n",
       "1  melody mupeta kitwe united party national deve...  \n",
       "2  group charcoal trader cmml area kitwe chimwemw...  \n",
       "3  pecologist mutende simwanza raise alarm detrim...  \n",
       "4  pcopperbelt minister elisha matambo issue mopa...  "
      ]
     },
     "execution_count": 80,
     "metadata": {},
     "output_type": "execute_result"
    }
   ],
   "source": [
    "# Load the dataset from a local file\n",
    "df = pd.read_csv(\"../data/Final_dataset2.csv\")\n",
    "df.head()"
   ]
  },
  {
   "cell_type": "markdown",
   "id": "67174053-6b73-4760-a7d4-09a36ddf27d8",
   "metadata": {},
   "source": [
    "# 1.data cleaning"
   ]
  },
  {
   "cell_type": "code",
   "execution_count": 81,
   "id": "9936132b-334a-4c7b-b708-1a77ef0b4728",
   "metadata": {},
   "outputs": [
    {
     "name": "stdout",
     "output_type": "stream",
     "text": [
      "<class 'pandas.core.frame.DataFrame'>\n",
      "RangeIndex: 10811 entries, 0 to 10810\n",
      "Data columns (total 8 columns):\n",
      " #   Column        Non-Null Count  Dtype \n",
      "---  ------        --------------  ----- \n",
      " 0   Source        10811 non-null  object\n",
      " 1   Headlines     10811 non-null  object\n",
      " 2   Category      10811 non-null  object\n",
      " 3   Link          10811 non-null  object\n",
      " 4   Date          10811 non-null  object\n",
      " 5   Author        10811 non-null  object\n",
      " 6   Target_final  10811 non-null  int64 \n",
      " 7   description   10811 non-null  object\n",
      "dtypes: int64(1), object(7)\n",
      "memory usage: 675.8+ KB\n"
     ]
    }
   ],
   "source": [
    "# display data types and non-null counts\n",
    "df.info()"
   ]
  },
  {
   "cell_type": "markdown",
   "id": "a5305ba6-6f03-441e-b399-f9eb7abc5b90",
   "metadata": {},
   "source": [
    "## 1.1 Remove Duplicates"
   ]
  },
  {
   "cell_type": "code",
   "execution_count": 82,
   "id": "37a4f647-1662-46f1-a20a-afd89b7d0266",
   "metadata": {},
   "outputs": [
    {
     "name": "stdout",
     "output_type": "stream",
     "text": [
      "original data had 10811 rows.\n",
      "cleaned data has 10811 rows.\n"
     ]
    }
   ],
   "source": [
    "#remove duplicate based on all columns\n",
    "df_cleaned= df.drop_duplicates()\n",
    "print(f\"original data had {df.shape[0]} rows.\")\n",
    "print(f\"cleaned data has {df_cleaned.shape[0]} rows.\")"
   ]
  },
  {
   "cell_type": "code",
   "execution_count": 83,
   "id": "dbbabc7d-eeb5-4212-98a0-8bf4472e71c3",
   "metadata": {},
   "outputs": [
    {
     "name": "stdout",
     "output_type": "stream",
     "text": [
      "<class 'pandas.core.frame.DataFrame'>\n",
      "RangeIndex: 10811 entries, 0 to 10810\n",
      "Data columns (total 8 columns):\n",
      " #   Column        Non-Null Count  Dtype \n",
      "---  ------        --------------  ----- \n",
      " 0   Source        10811 non-null  object\n",
      " 1   Headlines     10811 non-null  object\n",
      " 2   Category      10811 non-null  object\n",
      " 3   Link          10811 non-null  object\n",
      " 4   Date          10811 non-null  object\n",
      " 5   Author        10811 non-null  object\n",
      " 6   Target_final  10811 non-null  int64 \n",
      " 7   description   10811 non-null  object\n",
      "dtypes: int64(1), object(7)\n",
      "memory usage: 675.8+ KB\n"
     ]
    }
   ],
   "source": [
    "df_cleaned.info()"
   ]
  },
  {
   "cell_type": "markdown",
   "id": "00e83cf0-3629-4947-9689-edc6dee6f318",
   "metadata": {},
   "source": [
    "## 1.2 Handle missing values"
   ]
  },
  {
   "cell_type": "code",
   "execution_count": 84,
   "id": "adb47693-9579-4a99-93ae-e32d6c8d7c3a",
   "metadata": {},
   "outputs": [
    {
     "name": "stdout",
     "output_type": "stream",
     "text": [
      "Source          0\n",
      "Headlines       0\n",
      "Category        0\n",
      "Link            0\n",
      "Date            0\n",
      "Author          0\n",
      "Target_final    0\n",
      "description     0\n",
      "dtype: int64\n"
     ]
    }
   ],
   "source": [
    "#check for missing values\n",
    "print(df_cleaned.isnull().sum())"
   ]
  },
  {
   "cell_type": "code",
   "execution_count": 85,
   "id": "639b0f3e-aa6d-4c25-ae82-61468579ed8d",
   "metadata": {},
   "outputs": [],
   "source": [
    "#drop the rows with missing values\n",
    "#df_cleaned=df_cleaned.dropna()\n",
    "#print(f\"cleaned data has {df_cleaned.shape[0]} rows.\")"
   ]
  },
  {
   "cell_type": "code",
   "execution_count": 86,
   "id": "04c72eb2-f438-436a-ad97-07a61af2d411",
   "metadata": {},
   "outputs": [
    {
     "data": {
      "text/plain": [
       "Source          0\n",
       "Headlines       0\n",
       "Category        0\n",
       "Link            0\n",
       "Date            0\n",
       "Author          0\n",
       "Target_final    0\n",
       "description     0\n",
       "dtype: int64"
      ]
     },
     "execution_count": 86,
     "metadata": {},
     "output_type": "execute_result"
    }
   ],
   "source": [
    "df_cleaned.isnull().sum()"
   ]
  },
  {
   "cell_type": "markdown",
   "id": "8553cf73-2ab8-4fa7-b6c0-98f37cc28bdd",
   "metadata": {},
   "source": [
    "## 1.3 Convert the date to Datetime Format"
   ]
  },
  {
   "cell_type": "code",
   "execution_count": 87,
   "id": "0e844c75-cf60-404b-baec-614021485b06",
   "metadata": {},
   "outputs": [
    {
     "data": {
      "text/plain": [
       "Source          object\n",
       "Headlines       object\n",
       "Category        object\n",
       "Link            object\n",
       "Date            object\n",
       "Author          object\n",
       "Target_final     int64\n",
       "description     object\n",
       "dtype: object"
      ]
     },
     "execution_count": 87,
     "metadata": {},
     "output_type": "execute_result"
    }
   ],
   "source": [
    "#Check the dateformat\n",
    "df_cleaned.dtypes"
   ]
  },
  {
   "cell_type": "code",
   "execution_count": 88,
   "id": "81bcf475-9b50-4023-bb4b-83e12951c744",
   "metadata": {},
   "outputs": [],
   "source": [
    "#Convert 'Date' to datetime format\n",
    "df_cleaned['Date']=pd.to_datetime(df_cleaned['Date'])"
   ]
  },
  {
   "cell_type": "code",
   "execution_count": 89,
   "id": "0b3d40b6-bd3b-4597-8ccd-2d06a6c052fe",
   "metadata": {},
   "outputs": [
    {
     "data": {
      "text/plain": [
       "Source                       object\n",
       "Headlines                    object\n",
       "Category                     object\n",
       "Link                         object\n",
       "Date            datetime64[ns, UTC]\n",
       "Author                       object\n",
       "Target_final                  int64\n",
       "description                  object\n",
       "dtype: object"
      ]
     },
     "execution_count": 89,
     "metadata": {},
     "output_type": "execute_result"
    }
   ],
   "source": [
    "df_cleaned.dtypes"
   ]
  },
  {
   "cell_type": "markdown",
   "id": "8311c960-faee-43f8-bd49-3caf2f310d86",
   "metadata": {},
   "source": [
    "# 2. Data preprocessing"
   ]
  },
  {
   "cell_type": "code",
   "execution_count": 90,
   "id": "56c26088-41d4-4100-be7a-4b1db7cea836",
   "metadata": {},
   "outputs": [
    {
     "name": "stderr",
     "output_type": "stream",
     "text": [
      "[nltk_data] Downloading package punkt_tab to C:\\Users\\Familie\n",
      "[nltk_data]     fatah\\AppData\\Roaming\\nltk_data...\n",
      "[nltk_data]   Package punkt_tab is already up-to-date!\n"
     ]
    },
    {
     "data": {
      "text/plain": [
       "True"
      ]
     },
     "execution_count": 90,
     "metadata": {},
     "output_type": "execute_result"
    }
   ],
   "source": [
    " import nltk\n",
    " nltk.download('punkt_tab')"
   ]
  },
  {
   "cell_type": "code",
   "execution_count": 91,
   "id": "ba9acbaa-2a33-4f81-91fa-df4b7978dc3f",
   "metadata": {},
   "outputs": [],
   "source": [
    "def preprocess_text(text):\n",
    "    #remove URLs\n",
    "    text = re.sub(r'http\\S+', '', text)\n",
    "    #remove HTML tags\n",
    "    text = re.sub(r'<.*?>', '', text)\n",
    "    #remove punktuation\n",
    "    text = re.sub(r'[^\\w\\s]', '', text)\n",
    "    #lowecase text\n",
    "    text = text.lower()\n",
    "    #tokenize text\n",
    "    tokens = word_tokenize(text)\n",
    "    #remove stop words and lemmatize tokens\n",
    "    cleaned_tokens=[lemmatizer.lemmatize(word) for word in tokens if word not in stop_words]\n",
    "    return cleaned_tokens"
   ]
  },
  {
   "cell_type": "code",
   "execution_count": 92,
   "id": "ac685a08-9ccb-4482-9b8b-e48b271bfacf",
   "metadata": {},
   "outputs": [],
   "source": [
    "df_cleaned['description_cl']=df_cleaned['description'].apply(preprocess_text)"
   ]
  },
  {
   "cell_type": "code",
   "execution_count": 93,
   "id": "14404c09-95c3-4ee5-8c95-34695112f16a",
   "metadata": {},
   "outputs": [
    {
     "data": {
      "text/plain": [
       "0        mwila ntambi kitwe copperbelt university cbu k...\n",
       "1        melody mupeta kitwe united party national deve...\n",
       "2        group charcoal trader cmml area kitwe chimwemw...\n",
       "3        pecologist mutende simwanza raise alarm detrim...\n",
       "4        pcopperbelt minister elisha matambo issue mopa...\n",
       "                               ...                        \n",
       "10806    ppolice kitwe hold year man sexually abuse dau...\n",
       "10807    ppresident hakainde hichilema direct copperbel...\n",
       "10808    pby michael kaluba government direct zambia po...\n",
       "10809    drug enforcement commission dec arrest people ...\n",
       "10810    pkitwe central police officer family late rich...\n",
       "Name: description, Length: 10811, dtype: object"
      ]
     },
     "execution_count": 93,
     "metadata": {},
     "output_type": "execute_result"
    }
   ],
   "source": [
    "df_cleaned['description']"
   ]
  },
  {
   "cell_type": "code",
   "execution_count": 94,
   "id": "15f2aec4-a12d-4c73-9d8d-9d01c83d38a5",
   "metadata": {},
   "outputs": [
    {
     "name": "stdout",
     "output_type": "stream",
     "text": [
      "original text\n",
      "mwila ntambi kitwe copperbelt university cbu kitwe launch construction auditorium million cbu vicechancellor imasiku nyambe building auditorium milestone enhance infrastructure learn environment high learning institution say finished auditorium host academic conference\n",
      "preprocessed text:\n",
      "['mwila', 'ntambi', 'kitwe', 'copperbelt', 'university', 'cbu', 'kitwe', 'launch', 'construction', 'auditorium', 'million', 'cbu', 'vicechancellor', 'imasiku', 'nyambe', 'building', 'auditorium', 'milestone', 'enhance', 'infrastructure', 'learn', 'environment', 'high', 'learning', 'institution', 'say', 'finished', 'auditorium', 'host', 'academic', 'conference']\n"
     ]
    }
   ],
   "source": [
    "print(f\"original text\\n{df_cleaned['description'].iloc[0]}\")\n",
    "print(f\"preprocessed text:\\n{df_cleaned['description_cl'].iloc[0]}\")"
   ]
  },
  {
   "cell_type": "code",
   "execution_count": 95,
   "id": "a204b999-8812-4d6a-96d6-e51cc15c1b3b",
   "metadata": {},
   "outputs": [],
   "source": [
    "#saving as csv file\n",
    "df_cleaned.to_csv('../data/cleaned_data.csv', index=False)"
   ]
  },
  {
   "cell_type": "code",
   "execution_count": null,
   "id": "41002be7-6294-4584-8405-5e1864c77134",
   "metadata": {},
   "outputs": [],
   "source": []
  }
 ],
 "metadata": {
  "kernelspec": {
   "display_name": "Python 3 (ipykernel)",
   "language": "python",
   "name": "python3"
  },
  "language_info": {
   "codemirror_mode": {
    "name": "ipython",
    "version": 3
   },
   "file_extension": ".py",
   "mimetype": "text/x-python",
   "name": "python",
   "nbconvert_exporter": "python",
   "pygments_lexer": "ipython3",
   "version": "3.13.0"
  }
 },
 "nbformat": 4,
 "nbformat_minor": 5
}
